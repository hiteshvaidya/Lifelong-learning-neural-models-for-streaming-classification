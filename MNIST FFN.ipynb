{
 "cells": [
  {
   "cell_type": "code",
   "execution_count": 3,
   "metadata": {},
   "outputs": [],
   "source": [
    "import numpy as np\n",
    "import tensorflow as tf\n",
    "from tqdm import tqdm\n",
    "from tensorflow.keras.layers import Dense, Flatten, Conv2D\n",
    "from tensorflow.keras import Model\n",
    "from tensorflow.keras import layers\n",
    "import matplotlib.pyplot as plt\n",
    "tf.keras.backend.clear_session()  # For easy reset of notebook state."
   ]
  },
  {
   "cell_type": "code",
   "execution_count": 4,
   "metadata": {},
   "outputs": [],
   "source": [
    "class Linear(layers.Layer):\n",
    "    '''\n",
    "    Class for initializing a Layer in Neural Network\n",
    "    '''\n",
    "    def __init__(self, units=32):\n",
    "        '''\n",
    "        constructor\n",
    "        :param units:  number of nodes in the layer\n",
    "        '''\n",
    "        super(Linear, self).__init__()\n",
    "        self.units = units\n",
    "\n",
    "    def build(self, input_shape):\n",
    "        '''\n",
    "        Initializes the weight and bias values of the layer\n",
    "        :param w:  weights\n",
    "        :param b:  bias\n",
    "        '''\n",
    "        self.w = self.add_weight(shape=(input_shape[-1], self.units),\n",
    "                                 initializer='random_normal',\n",
    "                                 trainable=True)\n",
    "        self.b = self.add_weight(shape=(self.units,),\n",
    "                                 initializer='random_normal',\n",
    "                                 trainable=True)\n",
    "\n",
    "    def call(self, inputs):\n",
    "        '''\n",
    "        layer output\n",
    "        '''\n",
    "        return tf.matmul(inputs, self.w) + self.b"
   ]
  },
  {
   "cell_type": "code",
   "execution_count": 29,
   "metadata": {},
   "outputs": [],
   "source": [
    "class MLPBlock(layers.Layer):\n",
    "'''\n",
    "Neural Network Block\n",
    "'''\n",
    "    def __init__(self):\n",
    "        '''\n",
    "        Architecture of the neural network i.e.\n",
    "        number of layers and nodes in each layer\n",
    "        '''\n",
    "        super(MLPBlock, self).__init__()\n",
    "        self.layers = []     \n",
    "        self.layers.append(Linear(312))\n",
    "        self.layers.append(Linear(128))\n",
    "        self.layers.append(Linear(1))\n",
    "\n",
    "    def call(self, inputs):\n",
    "        '''\n",
    "        Forward pass of the neural network\n",
    "        '''\n",
    "        inputs = tf.reshape(inputs, (inputs.shape[0], -1))\n",
    "        x = self.layers[0](inputs)\n",
    "        x = tf.nn.relu(x)\n",
    "        x = self.layers[1](x)\n",
    "        x = tf.nn.relu(x)\n",
    "        x = self.layers[2](x)\n",
    "        return tf.math.sigmoid(x)"
   ]
  },
  {
   "cell_type": "code",
   "execution_count": 34,
   "metadata": {},
   "outputs": [],
   "source": [
    "net = MLPBlock()\n",
    "# mnist = tf.keras.datasets.mnist\n",
    "# (x_train, y_train), (x_test, y_test) = mnist.load_data()\n",
    "# x_train, x_test = x_train / 255.0, x_test / 255.0\n",
    "# batches_x_train = np.split(x_train, 20)\n",
    "# batches_y_train = np.split(y_train, 20)\n",
    "# batches_x_test = np.split(x_test, 20)\n",
    "# batches_y_test = np.split(y_test, 20)\n",
    "# print(len(batches_x_train), len(batches_y_train))\n",
    "# print(len(batches_x_test), len(batches_y_test))"
   ]
  },
  {
   "cell_type": "code",
   "execution_count": 35,
   "metadata": {},
   "outputs": [],
   "source": [
    "'''\n",
    "Load data\n",
    "'''\n",
    "(x_train, y_train), (x_test, y_test) = tf.keras.datasets.mnist.load_data()\n",
    "x_train = x_train.reshape(60000, 784).astype('float32') / 255\n",
    "x_test = x_test.reshape(10000, 784).astype('float32') / 255\n",
    "\n",
    "\n",
    "#collect all the labels generated for each task in following lists\n",
    "train_labels = []\n",
    "test_labels = []\n",
    "\n",
    "#for each task, initialize y=1 if task_number == label\n",
    "for index in range(10):\n",
    "    train_labels.append([1 if x == index else 0 for x in y_train])\n",
    "    test_labels.append([1 if x == index else 0 for x in y_test])\n",
    "        \n",
    "# y_train = np.zeros((train_labels.size, 10))\n",
    "# y_train[np.arange(train_labels.size), train_labels] = 1\n",
    "\n",
    "# y_test = np.zeros((test_labels.size, 10))\n",
    "# y_test[np.arange(test_labels.size), test_labels] = 1\n",
    "\n",
    "# train_dataset = tf.data.Dataset.from_tensor_slices((x_train, y_train))\n",
    "# train_dataset = train_dataset.shuffle(buffer_size=1024).batch(64)\n",
    "# test_dataset = tf.data.Dataset.from_tensor_slices((x_test, y_test))\n",
    "# test_dataset = test_dataset.shuffle(buffer_size=1024).batch(64)"
   ]
  },
  {
   "cell_type": "code",
   "execution_count": 27,
   "metadata": {},
   "outputs": [
    {
     "name": "stdout",
     "output_type": "stream",
     "text": [
      "task: 0\n",
      "y: tf.Tensor(0, shape=(), dtype=int32)\n"
     ]
    },
    {
     "data": {
      "image/png": "[encoded data removed]",
      "text/plain": [
       "<Figure size 432x288 with 1 Axes>"
      ]
     },
     "metadata": {
      "needs_background": "light"
     },
     "output_type": "display_data"
    },
    {
     "name": "stdout",
     "output_type": "stream",
     "text": [
      "y_train: 5\n"
     ]
    },
    {
     "data": {
      "image/png": "[encoded data removed]",
      "text/plain": [
       "<Figure size 432x288 with 1 Axes>"
      ]
     },
     "metadata": {
      "needs_background": "light"
     },
     "output_type": "display_data"
    },
    {
     "name": "stdout",
     "output_type": "stream",
     "text": [
      "task: 1\n",
      "y: tf.Tensor(0, shape=(), dtype=int32)\n"
     ]
    },
    {
     "data": {
      "image/png": "[encoded data removed]",
      "text/plain": [
       "<Figure size 432x288 with 1 Axes>"
      ]
     },
     "metadata": {
      "needs_background": "light"
     },
     "output_type": "display_data"
    },
    {
     "name": "stdout",
     "output_type": "stream",
     "text": [
      "y_train: 5\n"
     ]
    },
    {
     "data": {
      "image/png": "[encoded data removed]",
      "text/plain": [
       "<Figure size 432x288 with 1 Axes>"
      ]
     },
     "metadata": {
      "needs_background": "light"
     },
     "output_type": "display_data"
    }
   ],
   "source": [
    "'''\n",
    "Test code\n",
    "'''\n",
    "\n",
    "count = 0\n",
    "for task in range(10):  \n",
    "    train_dataset = tf.data.Dataset.from_tensor_slices((x_train, train_labels[task]))\n",
    "    train_dataset = train_dataset.shuffle(buffer_size=1024).batch(64)\n",
    "    for x,y in train_dataset:\n",
    "#         print('in the batch: %s; %s' % (y[0], x[0]))\n",
    "#         print('x_train:', x_train[0] == x[0])\n",
    "        print('task:', task)\n",
    "        print('y:', y[0])\n",
    "        plt.imshow(np.asarray(x[0]).reshape(28,28), cmap='gray')\n",
    "        plt.show()\n",
    "        print('y_train:', y_train[0])\n",
    "        plt.imshow(x_train[0].reshape(28,28))\n",
    "        plt.show()\n",
    "        break\n",
    "    count +=1\n",
    "    if count == 2:\n",
    "        break\n",
    "    "
   ]
  },
  {
   "cell_type": "markdown",
   "metadata": {},
   "source": [
    "## Check for loss_metric in following cell"
   ]
  },
  {
   "cell_type": "code",
   "execution_count": 36,
   "metadata": {},
   "outputs": [
    {
     "name": "stdout",
     "output_type": "stream",
     "text": [
      "mean train loss after 0 task: tf.Tensor(0.027965808, shape=(), dtype=float32)\n",
      "mean test loss after 0 task: tf.Tensor(0.014667595, shape=(), dtype=float32)\n",
      "---------------------------------\n",
      "\n",
      "mean train loss after 1 task: tf.Tensor(0.02896808, shape=(), dtype=float32)\n",
      "mean test loss after 1 task: tf.Tensor(0.0111438455, shape=(), dtype=float32)\n",
      "---------------------------------\n",
      "\n",
      "mean train loss after 2 task: tf.Tensor(0.050475266, shape=(), dtype=float32)\n",
      "mean test loss after 2 task: tf.Tensor(0.028386733, shape=(), dtype=float32)\n",
      "---------------------------------\n",
      "\n",
      "mean train loss after 3 task: tf.Tensor(0.060712706, shape=(), dtype=float32)\n",
      "mean test loss after 3 task: tf.Tensor(0.024033112, shape=(), dtype=float32)\n",
      "---------------------------------\n",
      "\n",
      "mean train loss after 4 task: tf.Tensor(0.046022546, shape=(), dtype=float32)\n",
      "mean test loss after 4 task: tf.Tensor(0.01937998, shape=(), dtype=float32)\n",
      "---------------------------------\n",
      "\n",
      "mean train loss after 5 task: tf.Tensor(0.052732054, shape=(), dtype=float32)\n",
      "mean test loss after 5 task: tf.Tensor(0.01938177, shape=(), dtype=float32)\n",
      "---------------------------------\n",
      "\n",
      "mean train loss after 6 task: tf.Tensor(0.030430116, shape=(), dtype=float32)\n",
      "mean test loss after 6 task: tf.Tensor(0.016777461, shape=(), dtype=float32)\n",
      "---------------------------------\n",
      "\n",
      "mean train loss after 7 task: tf.Tensor(0.059013285, shape=(), dtype=float32)\n",
      "mean test loss after 7 task: tf.Tensor(0.031512562, shape=(), dtype=float32)\n",
      "---------------------------------\n",
      "\n",
      "mean train loss after 8 task: tf.Tensor(0.05768644, shape=(), dtype=float32)\n",
      "mean test loss after 8 task: tf.Tensor(0.02299917, shape=(), dtype=float32)\n",
      "---------------------------------\n",
      "\n",
      "mean train loss after 9 task: tf.Tensor(0.055498015, shape=(), dtype=float32)\n",
      "mean test loss after 9 task: tf.Tensor(0.028885003, shape=(), dtype=float32)\n",
      "---------------------------------\n",
      "\n",
      "mean train loss after 0 task: tf.Tensor(0.025748676, shape=(), dtype=float32)\n",
      "mean test loss after 0 task: tf.Tensor(0.011061172, shape=(), dtype=float32)\n",
      "---------------------------------\n",
      "\n",
      "mean train loss after 1 task: tf.Tensor(0.032816283, shape=(), dtype=float32)\n",
      "mean test loss after 1 task: tf.Tensor(0.011551918, shape=(), dtype=float32)\n",
      "---------------------------------\n",
      "\n",
      "mean train loss after 2 task: tf.Tensor(0.044943906, shape=(), dtype=float32)\n",
      "mean test loss after 2 task: tf.Tensor(0.024367686, shape=(), dtype=float32)\n",
      "---------------------------------\n",
      "\n",
      "mean train loss after 3 task: tf.Tensor(0.049734596, shape=(), dtype=float32)\n",
      "mean test loss after 3 task: tf.Tensor(0.02246426, shape=(), dtype=float32)\n",
      "---------------------------------\n",
      "\n",
      "mean train loss after 4 task: tf.Tensor(0.037489675, shape=(), dtype=float32)\n",
      "mean test loss after 4 task: tf.Tensor(0.022564393, shape=(), dtype=float32)\n",
      "---------------------------------\n",
      "\n",
      "mean train loss after 5 task: tf.Tensor(0.047862064, shape=(), dtype=float32)\n",
      "mean test loss after 5 task: tf.Tensor(0.02158547, shape=(), dtype=float32)\n",
      "---------------------------------\n",
      "\n",
      "mean train loss after 6 task: tf.Tensor(0.028327802, shape=(), dtype=float32)\n",
      "mean test loss after 6 task: tf.Tensor(0.018561771, shape=(), dtype=float32)\n",
      "---------------------------------\n",
      "\n",
      "mean train loss after 7 task: tf.Tensor(0.04458845, shape=(), dtype=float32)\n",
      "mean test loss after 7 task: tf.Tensor(0.023790425, shape=(), dtype=float32)\n",
      "---------------------------------\n",
      "\n",
      "mean train loss after 8 task: tf.Tensor(0.0489848, shape=(), dtype=float32)\n",
      "mean test loss after 8 task: tf.Tensor(0.021285323, shape=(), dtype=float32)\n",
      "---------------------------------\n",
      "\n",
      "mean train loss after 9 task: tf.Tensor(0.046062455, shape=(), dtype=float32)\n",
      "mean test loss after 9 task: tf.Tensor(0.027698344, shape=(), dtype=float32)\n",
      "---------------------------------\n",
      "\n",
      "mean train loss after 0 task: tf.Tensor(0.022379015, shape=(), dtype=float32)\n",
      "mean test loss after 0 task: tf.Tensor(0.011478997, shape=(), dtype=float32)\n",
      "---------------------------------\n",
      "\n",
      "mean train loss after 1 task: tf.Tensor(0.04360578, shape=(), dtype=float32)\n",
      "mean test loss after 1 task: tf.Tensor(0.012538215, shape=(), dtype=float32)\n",
      "---------------------------------\n",
      "\n",
      "mean train loss after 2 task: tf.Tensor(0.043536805, shape=(), dtype=float32)\n",
      "mean test loss after 2 task: tf.Tensor(0.020102832, shape=(), dtype=float32)\n",
      "---------------------------------\n",
      "\n",
      "mean train loss after 3 task: tf.Tensor(0.049490865, shape=(), dtype=float32)\n",
      "mean test loss after 3 task: tf.Tensor(0.021366036, shape=(), dtype=float32)\n",
      "---------------------------------\n",
      "\n",
      "mean train loss after 4 task: tf.Tensor(0.032233078, shape=(), dtype=float32)\n",
      "mean test loss after 4 task: tf.Tensor(0.016056512, shape=(), dtype=float32)\n",
      "---------------------------------\n",
      "\n",
      "mean train loss after 5 task: tf.Tensor(0.039786525, shape=(), dtype=float32)\n",
      "mean test loss after 5 task: tf.Tensor(0.043537688, shape=(), dtype=float32)\n",
      "---------------------------------\n",
      "\n",
      "mean train loss after 6 task: tf.Tensor(0.028060358, shape=(), dtype=float32)\n",
      "mean test loss after 6 task: tf.Tensor(0.024527175, shape=(), dtype=float32)\n",
      "---------------------------------\n",
      "\n",
      "mean train loss after 7 task: tf.Tensor(0.042990346, shape=(), dtype=float32)\n",
      "mean test loss after 7 task: tf.Tensor(0.021694418, shape=(), dtype=float32)\n",
      "---------------------------------\n",
      "\n",
      "mean train loss after 8 task: tf.Tensor(0.0411983, shape=(), dtype=float32)\n",
      "mean test loss after 8 task: tf.Tensor(0.021710062, shape=(), dtype=float32)\n",
      "---------------------------------\n",
      "\n",
      "mean train loss after 9 task: tf.Tensor(0.04125866, shape=(), dtype=float32)\n",
      "mean test loss after 9 task: tf.Tensor(0.023962116, shape=(), dtype=float32)\n",
      "---------------------------------\n",
      "\n"
     ]
    }
   ],
   "source": [
    "n_epochs = 5\n",
    "train_losses = []\n",
    "test_losses = []\n",
    "optimizer = tf.keras.optimizers.Adam(learning_rate=1e-3)\n",
    "mse_loss_fn = tf.keras.losses.MeanSquaredError()\n",
    "bce = tf.keras.losses.BinaryCrossentropy()\n",
    "loss_metric = tf.keras.metrics.Mean()\n",
    "\n",
    "for epoch in range(3):\n",
    "    for task in range(10):\n",
    "        #  for each task, form a dataloader that shuffles and divides data into batches\n",
    "        train_dataset = tf.data.Dataset.from_tensor_slices((x_train, train_labels[task]))\n",
    "        train_dataset = train_dataset.shuffle(buffer_size=1024).batch(64)\n",
    "        test_dataset = tf.data.Dataset.from_tensor_slices((x_test, test_labels[task]))\n",
    "        test_dataset = test_dataset.shuffle(buffer_size=1024).batch(64)\n",
    "        \n",
    "        # declare new loss metric for each task to avoid overriding\n",
    "        loss_metric = tf.keras.metrics.Mean()\n",
    "        for x_batch_train, y_batch_train in train_dataset:\n",
    "            with tf.GradientTape() as tape:\n",
    "                output = net(x_batch_train)\n",
    "                # Compute training loss\n",
    "                loss = bce(y_batch_train, output)\n",
    "                loss += sum(net.losses)  # Add KLD regularization loss\n",
    "\n",
    "            grads = tape.gradient(loss, net.trainable_weights)\n",
    "            optimizer.apply_gradients(zip(grads, net.trainable_weights))\n",
    "            loss_metric(loss)\n",
    "        train_losses.append(loss_metric.result())\n",
    "        print('mean train loss after %s task: %s' % (task, train_losses[-1]))\n",
    "        \n",
    "        # declare new loss function for testing to avoid overriding\n",
    "        loss_metric = tf.keras.metrics.Mean()\n",
    "        for x_batch_test, y_batch_test in test_dataset:\n",
    "            test_output = net(x_batch_test)\n",
    "            test_loss = bce(y_batch_test, test_output)\n",
    "            test_loss += sum(net.losses)\n",
    "            loss_metric(test_loss)\n",
    "        test_losses.append(loss_metric.result())\n",
    "        print('mean test loss after %s task: %s' % (task, test_losses[-1]))\n",
    "        print('---------------------------------\\n')\n",
    "\n",
    "\n",
    "    "
   ]
  },
  {
   "cell_type": "code",
   "execution_count": 37,
   "metadata": {},
   "outputs": [
    {
     "name": "stdout",
     "output_type": "stream",
     "text": [
      "average accuracy: 0.0\n"
     ]
    }
   ],
   "source": [
    "acc = 0\n",
    "total = 0\n",
    "test_dataset = tf.data.Dataset.from_tensor_slices((x_test, test_labels[0]))\n",
    "test_dataset = test_dataset.shuffle(buffer_size=1024).batch(64)\n",
    "for x_batch_test, y_batch_test in test_dataset:\n",
    "    test_output = net(x_batch_test)\n",
    "    for (output,target) in zip(test_output, test_labels[0]):\n",
    "#         if tf.math.argmax(output) == tf.math.argmax(y_batch_test[index]):\n",
    "        if output == target:\n",
    "            acc += 1\n",
    "        total += 1\n",
    "print('average accuracy:', acc/total)"
   ]
  },
  {
   "cell_type": "code",
   "execution_count": null,
   "metadata": {},
   "outputs": [],
   "source": []
  }
 ],
 "metadata": {
  "kernelspec": {
   "display_name": "pyTorchProjects",
   "language": "python",
   "name": "pytorchprojects"
  },
  "language_info": {
   "codemirror_mode": {
    "name": "ipython",
    "version": 3
   },
   "file_extension": ".py",
   "mimetype": "text/x-python",
   "name": "python",
   "nbconvert_exporter": "python",
   "pygments_lexer": "ipython3",
   "version": "3.7.3"
  }
 },
 "nbformat": 4,
 "nbformat_minor": 2
}
