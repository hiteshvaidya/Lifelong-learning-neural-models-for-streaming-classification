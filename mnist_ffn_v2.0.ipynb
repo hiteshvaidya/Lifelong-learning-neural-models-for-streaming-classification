{
 "cells": [
  {
   "cell_type": "code",
   "execution_count": 6,
   "metadata": {},
   "outputs": [],
   "source": [
    "import numpy as np\n",
    "import tensorflow as tf\n",
    "from tqdm import tqdm\n",
    "import csv\n",
    "import random\n",
    "import pandas as pd\n",
    "from tensorflow.keras.layers import Dense, Flatten, Conv2D\n",
    "from tensorflow.keras import Model\n",
    "from tensorflow.keras import layers\n",
    "import matplotlib.pyplot as plt\n",
    "tf.keras.backend.clear_session()  # For easy reset of notebook state."
   ]
  },
  {
   "cell_type": "markdown",
   "metadata": {},
   "source": [
    "### Class for Linear Layer in a neural network"
   ]
  },
  {
   "cell_type": "code",
   "execution_count": 8,
   "metadata": {},
   "outputs": [],
   "source": [
    "class Linear(layers.Layer):\n",
    "    '''\n",
    "    Class for initializing a Layer in Neural Network\n",
    "    '''\n",
    "    def __init__(self, units=32):\n",
    "        '''\n",
    "        constructor\n",
    "        :param units:  number of nodes in the layer\n",
    "        '''\n",
    "        super(Linear, self).__init__()\n",
    "        self.units = units\n",
    "\n",
    "    def build(self, input_shape):\n",
    "        '''\n",
    "        Initializes the weight and bias values of the layer\n",
    "        :param w:  weights\n",
    "        :param b:  bias\n",
    "        '''\n",
    "        self.w = self.add_weight(shape=(input_shape[-1], self.units),\n",
    "                                 initializer='random_normal',\n",
    "                                 trainable=True)\n",
    "        self.b = self.add_weight(shape=(self.units,),\n",
    "                                 initializer='random_normal',\n",
    "                                 trainable=True)\n",
    "\n",
    "    def call(self, inputs):\n",
    "        '''\n",
    "        layer output\n",
    "        '''\n",
    "        return tf.matmul(inputs, self.w) + self.b"
   ]
  },
  {
   "cell_type": "markdown",
   "metadata": {},
   "source": [
    "### Create the Multi-layer Perceptron block"
   ]
  },
  {
   "cell_type": "code",
   "execution_count": 9,
   "metadata": {},
   "outputs": [],
   "source": [
    "class MLPBlock(layers.Layer):\n",
    "    '''\n",
    "    Neural Network Block\n",
    "    '''\n",
    "    def __init__(self):\n",
    "        '''\n",
    "        Architecture of the neural network i.e.\n",
    "        number of layers and nodes in each layer\n",
    "        '''\n",
    "        super(MLPBlock, self).__init__()\n",
    "        self.layers = []     \n",
    "        self.layers.append(Linear(312))\n",
    "        self.layers.append(Linear(128))\n",
    "        self.layers.append(Linear(1))\n",
    "\n",
    "    def call(self, inputs):\n",
    "        '''\n",
    "        Forward pass of the neural network\n",
    "        '''\n",
    "        inputs = tf.reshape(inputs, (inputs.shape[0], -1))\n",
    "        x = self.layers[0](inputs)\n",
    "        x = tf.nn.relu(x)\n",
    "        x = self.layers[1](x)\n",
    "        x = tf.nn.relu(x)\n",
    "        x = self.layers[2](x)\n",
    "        return tf.math.sigmoid(x)"
   ]
  },
  {
   "cell_type": "markdown",
   "metadata": {},
   "source": [
    "### Create batches out of give list"
   ]
  },
  {
   "cell_type": "code",
   "execution_count": 1,
   "metadata": {},
   "outputs": [],
   "source": [
    "# a = np.arange(20).reshape((10,2))\n",
    "def divide_chunks(l, n): \n",
    "    '''\n",
    "    Divides a list into batches of given size\n",
    "    '''\n",
    "    # looping till length l \n",
    "    for i in range(0, len(l), n):  \n",
    "        yield l[i:i + n] "
   ]
  },
  {
   "cell_type": "markdown",
   "metadata": {},
   "source": [
    "### Create train and validation batches"
   ]
  },
  {
   "cell_type": "code",
   "execution_count": 47,
   "metadata": {},
   "outputs": [],
   "source": [
    "def create_batches():\n",
    "    train_batches = []\n",
    "    valid_batches = []\n",
    "    for t in range(10):\n",
    "        train_indices = [(index,1) if np.argmax(y)==t else (index,0) for index,y in enumerate(trainY)]\n",
    "        valid_indices = [(index,1) if np.argmax(y)==t else (index,0) for index,y in enumerate(validY)]\n",
    "\n",
    "        train_indices = np.array(sorted(train_indices, key=lambda tup:-tup[1]))\n",
    "        train_indices = train_indices[: 2*len(np.where(train_indices[:,1]==1)[0])]\n",
    "        random.shuffle(train_indices)\n",
    "\n",
    "        valid_indices = np.array(sorted(valid_indices, key=lambda tup:-tup[1]))\n",
    "        valid_indices = valid_indices[: 2*len(np.where(train_indices[:,1]==1)[0])]\n",
    "        random.shuffle(valid_indices)\n",
    "\n",
    "        train_batches.append(np.asarray(list(divide_chunks(train_indices, 20))))\n",
    "        valid_batches.append(np.asarray(list(divide_chunks(valid_indices, 20))))\n",
    "    return train_batches, valid_batches"
   ]
  },
  {
   "cell_type": "markdown",
   "metadata": {},
   "source": [
    "## Code with custom Data Loader"
   ]
  },
  {
   "cell_type": "code",
   "execution_count": 67,
   "metadata": {},
   "outputs": [],
   "source": [
    "'''\n",
    "Code with custom data loader\n",
    "'''\n",
    "def main():\n",
    "    # load data\n",
    "    trainX = pd.read_csv('datasets/mnist/trainX.tsv', sep=\"\\t\", header=None, index_col=False).to_numpy()\n",
    "    trainY = pd.read_csv('datasets/mnist/trainY.tsv', sep=\"\\t\", header=None, index_col=False).to_numpy()\n",
    "    testX = pd.read_csv('datasets/mnist/testX.tsv', sep=\"\\t\", header=None, index_col=False).to_numpy()\n",
    "    testY = pd.read_csv('datasets/mnist/testY.tsv', sep=\"\\t\", header=None, index_col=False).to_numpy()\n",
    "    validX = pd.read_csv('datasets/mnist/validX.tsv', sep=\"\\t\", header=None, index_col=False).to_numpy()\n",
    "    validY = pd.read_csv('datasets/mnist/validY.tsv', sep=\"\\t\", header=None, index_col=False).to_numpy()\n",
    "    n_epochs = 100\n",
    "    train_losses = []\n",
    "    valid_losses = []\n",
    "    optimizer = tf.keras.optimizers.Adam(learning_rate=1e-3)\n",
    "    mse_loss_fn = tf.keras.losses.MeanSquaredError()\n",
    "    bce = tf.keras.losses.BinaryCrossentropy()\n",
    "    train_batches, valid_batches = create_batches()\n",
    "    net = MLPBlock()\n",
    "\n",
    "    for epoch in range(n_epochs):\n",
    "        print('Epoch:', epoch)\n",
    "        epoch_train_loss = 0\n",
    "        epoch_valid_loss = 0\n",
    "        \n",
    "        for task in range(10):\n",
    "            task_loss = 0\n",
    "            size = 0\n",
    "            for batch in train_batches[t]:\n",
    "                '''\n",
    "                batchX = trainX[batch[:,0]]\n",
    "                batchY = trainY[batch[:,1]]\n",
    "                '''\n",
    "                with tf.GradientTape() as tape:\n",
    "                    output = net(trainX[batch[:,0]])\n",
    "                    size += len(trainX[batch[:,0]])\n",
    "                    batch_loss = mse_loss_fn(np.argmax(trainY[batch[:,1]], axis=0), output)\n",
    "                    task_loss += batch_loss\n",
    "                grads = tape.gradient(batch_loss, net.trainable_weights)\n",
    "                optimizer.apply_gradients(zip(grads, net.trainable_weights))\n",
    "            task_loss /= size\n",
    "#             train_losses.append(task_loss)\n",
    "            epoch_train_loss += task_loss\n",
    "            print('mean train loss for task %s: %s' % (task, task_loss))\n",
    "\n",
    "            valid_loss = 0\n",
    "            size = 0\n",
    "            for batch in valid_batches[t]:\n",
    "                output = net(validX[batch[:,0]])\n",
    "                size += len(validX[batch[:,0]])\n",
    "                batch_loss = mse_loss_fn(np.argmax(validY[batch[:,1]], axis=0), output)\n",
    "                valid_loss += batch_loss\n",
    "            valid_loss /= size\n",
    "#             valid_losses.append(valid_loss)\n",
    "            epoch_valid_loss += valid_loss\n",
    "            print('mean valid loss for task %s: %s' % (task, valid_loss))\n",
    "            print('----------------------------------------------')\n",
    "        \n",
    "        train_losses.append(epoch_train_loss/10)\n",
    "        valid_losses.append(epoch_valid_loss/10)\n",
    "        print('xxxxxxxxxxxxxxxx end of Epoch xxxxxxxxxxxxxxxx\\n\\n')\n",
    "    \n",
    "    \n",
    "    plot_losses(train_losses, valid_losses)\n",
    "    accuracy(testX, testY, net, mse_loss_fn)"
   ]
  },
  {
   "cell_type": "markdown",
   "metadata": {},
   "source": [
    "### Plot graphs for losses"
   ]
  },
  {
   "cell_type": "code",
   "execution_count": 70,
   "metadata": {},
   "outputs": [
    {
     "name": "stdout",
     "output_type": "stream",
     "text": [
      "train_losses:\n"
     ]
    },
    {
     "data": {
      "image/png": "[encoded data removed]",
      "text/plain": [
       "<Figure size 432x288 with 1 Axes>"
      ]
     },
     "metadata": {
      "needs_background": "light"
     },
     "output_type": "display_data"
    }
   ],
   "source": [
    "def plot_losses(train_losses, valid_losses):\n",
    "    # train_losses = np.asarray(train_losses).reshape((3,10))\n",
    "    # valid_losses = np.asarray(valid_losses).reshape((3,10))\n",
    "#     for c,row in enumerate(train_losses):\n",
    "#         plt.plot(row, label=('epoch '+str(c)))\n",
    "    plt.plot(train_losses, label='Train loss per epoch')\n",
    "    plt.plot(valid_losses, label='Validation loss per epoch')\n",
    "    plt.title('Loss plot')\n",
    "    plt.xlabel('Epochs')\n",
    "    plt.ylabel('Loss Value')\n",
    "    plt.legend(loc='upper right')\n",
    "#     plt.show()\n",
    "    plt.savefig('Loss_plot.png')"
   ]
  },
  {
   "cell_type": "code",
   "execution_count": 71,
   "metadata": {},
   "outputs": [
    {
     "name": "stdout",
     "output_type": "stream",
     "text": [
      "test_losses:\n"
     ]
    },
    {
     "data": {
      "image/png": "[encoded data removed]",
      "text/plain": [
       "<Figure size 432x288 with 1 Axes>"
      ]
     },
     "metadata": {
      "needs_background": "light"
     },
     "output_type": "display_data"
    }
   ],
   "source": [
    "# print('test_losses:')\n",
    "# for c,row in enumerate(valid_losses):\n",
    "#     plt.plot(row, label=('epoch '+str(c)))\n",
    "# plt.title('valid losses')\n",
    "# plt.legend(loc='upper right')\n",
    "# plt.show()"
   ]
  },
  {
   "cell_type": "markdown",
   "metadata": {},
   "source": [
    "### Calculate test loss and accuracy"
   ]
  },
  {
   "cell_type": "code",
   "execution_count": 3,
   "metadata": {},
   "outputs": [
    {
     "ename": "SyntaxError",
     "evalue": "unexpected EOF while parsing (<ipython-input-3-0484ebc4073e>, line 22)",
     "output_type": "error",
     "traceback": [
      "\u001b[0;36m  File \u001b[0;32m\"<ipython-input-3-0484ebc4073e>\"\u001b[0;36m, line \u001b[0;32m22\u001b[0m\n\u001b[0;31m    with open('test results.txt', 'w+') as file:\u001b[0m\n\u001b[0m                                                ^\u001b[0m\n\u001b[0;31mSyntaxError\u001b[0m\u001b[0;31m:\u001b[0m unexpected EOF while parsing\n"
     ]
    }
   ],
   "source": [
    "def accuracy(testX, testY, net, mse_loss_fn):\n",
    "    acc = 0\n",
    "    total = 0\n",
    "    test_dataset = tf.data.Dataset.from_tensor_slices((testX, len(testY)*[1]))\n",
    "    test_dataset = test_dataset.shuffle(buffer_size=1024).batch(64)\n",
    "    test_loss = 0\n",
    "    for x_batch_test, y_batch_test in test_dataset:\n",
    "        test_output = net(x_batch_test)\n",
    "        test_loss += mse_loss_fn(y_batch_test, test_output)\n",
    "        for (output,target) in zip(test_output, y_batch_test):\n",
    "    #         if tf.math.argmax(output) == tf.math.argmax(y_batch_test[index]):\n",
    "            if output >= 0.5:\n",
    "                temp = 1\n",
    "            else:\n",
    "                temp = 0\n",
    "            if temp == 1:\n",
    "                acc += 1\n",
    "            total += 1\n",
    "    print('\\n\\n\\n################### Test Results ###################')\n",
    "    print('average accuracy:', acc/total)\n",
    "    print('Test Loss: ', test_loss/len(list(test_dataset)))\n",
    "    with open('test results.txt', 'w+') as file:\n",
    "        file.write('\\n\\n\\n################### Test Results ###################')\n",
    "        file.write('average accuracy:', acc/total)\n",
    "        file.write('Test Loss: ', test_loss/len(list(test_dataset)))"
   ]
  },
  {
   "cell_type": "code",
   "execution_count": null,
   "metadata": {},
   "outputs": [],
   "source": [
    "if __name__ == '__main__':\n",
    "    main()"
   ]
  }
 ],
 "metadata": {
  "kernelspec": {
   "display_name": "pyTorchProjects",
   "language": "python",
   "name": "pytorchprojects"
  },
  "language_info": {
   "codemirror_mode": {
    "name": "ipython",
    "version": 3
   },
   "file_extension": ".py",
   "mimetype": "text/x-python",
   "name": "python",
   "nbconvert_exporter": "python",
   "pygments_lexer": "ipython3",
   "version": "3.7.3"
  }
 },
 "nbformat": 4,
 "nbformat_minor": 2
}
