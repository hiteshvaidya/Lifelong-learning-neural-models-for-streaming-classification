{
 "cells": [
  {
   "cell_type": "code",
   "execution_count": 10,
   "metadata": {},
   "outputs": [],
   "source": [
    "from __future__ import absolute_import, division, print_function, unicode_literals\n",
    "\n",
    "import tensorflow as tf\n",
    "import numpy as np\n",
    "import pickle as pkl\n",
    "import matplotlib.pyplot as plt\n",
    "import csv\n",
    "%matplotlib notebook "
   ]
  },
  {
   "cell_type": "code",
   "execution_count": 5,
   "metadata": {},
   "outputs": [],
   "source": [
    "mnist = tf.keras.datasets.mnist\n",
    "\n",
    "(x_train, y_train), (x_test, y_test) = mnist.load_data()\n",
    "x_train, x_test = x_train / 255.0, x_test / 255.0\n",
    "\n",
    "train_data = []\n",
    "test_data = []\n",
    "for index in range(0,10,2):\n",
    "    train_filter = np.where((y_train == index ) | (y_train == index+1))\n",
    "    test_filter = np.where((y_test == index) | (y_test == index+1))\n",
    "    temp_x_train, temp_y_train = x_train[train_filter], y_train[train_filter]\n",
    "    temp_x_test, temp_y_test = x_test[test_filter], y_test[test_filter]\n",
    "    for cursor in range(len(temp_y_train)):\n",
    "        temp_y_train[cursor] %= 2\n",
    "    for cursor in range(len(temp_y_test)):\n",
    "        temp_y_test[cursor] %= 2\n",
    "    train_data.append([temp_x_train, temp_y_train])\n",
    "    test_data.append([temp_x_test, temp_y_test])"
   ]
  },
  {
   "cell_type": "code",
   "execution_count": 6,
   "metadata": {},
   "outputs": [],
   "source": [
    "model = tf.keras.models.Sequential([\n",
    "  tf.keras.layers.Flatten(input_shape=(28, 28)),\n",
    "  tf.keras.layers.Dense(128, activation='relu'),\n",
    "  tf.keras.layers.Dropout(0.2),\n",
    "  tf.keras.layers.Dense(10, activation='softmax')\n",
    "])\n",
    "\n",
    "model.compile(optimizer='adam',\n",
    "              loss='sparse_categorical_crossentropy',\n",
    "              metrics=['accuracy'])"
   ]
  },
  {
   "cell_type": "code",
   "execution_count": null,
   "metadata": {},
   "outputs": [],
   "source": [
    "result_table = []\n",
    "for index in range(len(train_data)):\n",
    "    model.fit(train_data[index][0], train_data[index][1], epochs=1)\n",
    "    result_row = []\n",
    "    for cursor in range(len(test_data)):\n",
    "        result = model.evaluate(test_data[cursor][0], test_data[cursor][1])\n",
    "        result_row.append(result[1])\n",
    "    result_table.append(result_row)\n",
    "\n",
    "print('result table =', result_table)\n",
    "print('average accuracy =', sum(result_table[-1])/5)"
   ]
  },
  {
   "cell_type": "code",
   "execution_count": 11,
   "metadata": {},
   "outputs": [],
   "source": [
    "with open(\"split_mnist.csv\", \"w\", newline=\"\") as f:\n",
    "    writer = csv.writer(f)\n",
    "    writer.writerows(result_table)"
   ]
  },
  {
   "cell_type": "code",
   "execution_count": null,
   "metadata": {},
   "outputs": [],
   "source": []
  }
 ],
 "metadata": {
  "kernelspec": {
   "display_name": "pyTorchProjects",
   "language": "python",
   "name": "pytorchprojects"
  },
  "language_info": {
   "codemirror_mode": {
    "name": "ipython",
    "version": 3
   },
   "file_extension": ".py",
   "mimetype": "text/x-python",
   "name": "python",
   "nbconvert_exporter": "python",
   "pygments_lexer": "ipython3",
   "version": "3.7.3"
  }
 },
 "nbformat": 4,
 "nbformat_minor": 2
}
